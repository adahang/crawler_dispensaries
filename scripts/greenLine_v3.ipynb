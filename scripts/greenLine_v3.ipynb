{
 "cells": [
  {
   "cell_type": "code",
   "execution_count": 28,
   "metadata": {},
   "outputs": [],
   "source": [
    "import io, time, json, random\n",
    "import requests\n",
    "from bs4 import BeautifulSoup\n",
    "import re"
   ]
  },
  {
   "cell_type": "code",
   "execution_count": 2,
   "metadata": {},
   "outputs": [],
   "source": [
    "a = {\"flor\": {\"flavor\":\"sweet\", \"effect\":{\"positive\":1, \"negative\":2, \"medical\":3}}}"
   ]
  },
  {
   "cell_type": "code",
   "execution_count": 3,
   "metadata": {},
   "outputs": [],
   "source": [
    "b = {\"FLOR EBD:132\": {\"flavor\":None, \"effect\":{\"positive\":None, \"negative\":None, \"medical\":None}}}"
   ]
  },
  {
   "cell_type": "code",
   "execution_count": 4,
   "metadata": {},
   "outputs": [
    {
     "name": "stdout",
     "output_type": "stream",
     "text": [
      "keyb: FLOR EBD:132, keya: flor\n"
     ]
    },
    {
     "data": {
      "text/plain": [
       "{'FLOR EBD:132': {'flavor': 'sweet',\n",
       "  'effect': {'positive': 1, 'negative': 2, 'medical': 3}}}"
      ]
     },
     "execution_count": 4,
     "metadata": {},
     "output_type": "execute_result"
    }
   ],
   "source": [
    "for keyb in b.keys():\n",
    "    for keya in a.keys():\n",
    "        if keyb.lower().find(keya.lower()) != -1:\n",
    "            b[keyb][\"effect\"] = a[keya][\"effect\"]\n",
    "            b[keyb][\"flavor\"] = a[keya][\"flavor\"]\n",
    "        print(\"keyb: %s, keya: %s\" %(keyb, keya))\n",
    "b"
   ]
  },
  {
   "cell_type": "code",
   "execution_count": 5,
   "metadata": {},
   "outputs": [],
   "source": [
    "with open('data.json', 'r') as fp:\n",
    "    data = json.load(fp)"
   ]
  },
  {
   "cell_type": "code",
   "execution_count": 30,
   "metadata": {},
   "outputs": [],
   "source": [
    "def update_menu(path, filename, data):\n",
    "    \"\"\"\"\"\"\n",
    "    fullpath = path + filename\n",
    "    menu = []\n",
    "    with open(fullpath, 'r') as fp:\n",
    "        menu = json.load(fp)\n",
    "        wnames = [m[\"name\"] for m in menu]\n",
    "        # print(wnames)\n",
    "        for idx in range(len(wnames)):\n",
    "#         for idx in range(10):\n",
    "            wname = wnames[idx].lower() # make it case in-sensitive\n",
    "            for d in data.keys():\n",
    "                if wname.find(d.lower()) != -1:\n",
    "                    # print(menu[idx]['effect'])\n",
    "                    # print(data[d])\n",
    "                    # print(\"weed name: %s, d: %s, wname.find(d): %d\" %(wname, d, wname.find(d.lower())))\n",
    "                    menu[idx][\"effect\"] = data[d][\"effects\"]\n",
    "                    menu[idx][\"flavor\"] = data[d][\"flavors\"]\n",
    "                    break\n",
    "    with open(fullpath, 'w') as fp:\n",
    "        json.dump(menu, fp)"
   ]
  },
  {
   "cell_type": "code",
   "execution_count": 31,
   "metadata": {},
   "outputs": [],
   "source": [
    "update_menu('menus/', 'menu_dispensary33.json', data)"
   ]
  },
  {
   "cell_type": "code",
   "execution_count": 32,
   "metadata": {},
   "outputs": [],
   "source": [
    "update_menu('menus/', 'menu_moderncann.json', data)"
   ]
  },
  {
   "cell_type": "markdown",
   "metadata": {},
   "source": [
    "# 1.2 Temporary Fake data for \"null\" flavor and \"null\" effect"
   ]
  },
  {
   "cell_type": "code",
   "execution_count": 22,
   "metadata": {},
   "outputs": [],
   "source": [
    "def pre_flavor_effect(data):\n",
    "    flv = []\n",
    "    positive_eff = []\n",
    "    negative_eff = []\n",
    "    medical_eff = []\n",
    "    for v in data.values():\n",
    "    #     print(v[\"flavors\"], v[\"effects\"])\n",
    "        flv.extend(v[\"flavors\"])\n",
    "        positive_eff.extend(v[\"effects\"][\"positive\"])\n",
    "        negative_eff.extend(v[\"effects\"][\"negative\"])\n",
    "        medical_eff.extend(v[\"effects\"][\"medical\"])\n",
    "    return list(set(flv)), list(set(positive_eff)), list(set(negative_eff)), list(set(medical_eff))"
   ]
  },
  {
   "cell_type": "code",
   "execution_count": 23,
   "metadata": {},
   "outputs": [],
   "source": [
    "flav, positive_effects, negative_effects, medical_effects = pre_flavor_effect(data)"
   ]
  },
  {
   "cell_type": "code",
   "execution_count": 37,
   "metadata": {},
   "outputs": [],
   "source": [
    "# update menu as well as those straw items which don't appear in data.json\n",
    "def update_menu2(path, filename, data):\n",
    "    \"\"\"\"\"\"\n",
    "    fullpath = path + filename\n",
    "    menu = []\n",
    "    \n",
    "    # prepare seeds\n",
    "    flav, positive_effects, negative_effects, medical_effects = pre_flavor_effect(data)\n",
    "    # print(flav, positive_effects, negative_effects, medical_effects)\n",
    "    with open(fullpath, 'r') as fp:\n",
    "        menu = json.load(fp)\n",
    "        wnames = [m[\"name\"] for m in menu]\n",
    "        # print(wnames)\n",
    "        for idx in range(len(wnames)):\n",
    "#         for idx in range(10):\n",
    "            wname = wnames[idx].lower() # make it case in-sensitive\n",
    "            for d in data.keys():\n",
    "                if wname.find(d.lower()) != -1:\n",
    "                    # print(menu[idx]['effect'])\n",
    "                    # print(data[d])\n",
    "                    # print(\"weed name: %s, d: %s, wname.find(d): %d\" %(wname, d, wname.find(d.lower())))\n",
    "                    menu[idx][\"effect\"] = data[d][\"effects\"]\n",
    "                    menu[idx][\"flavor\"] = data[d][\"flavors\"]\n",
    "                    break\n",
    "                else:\n",
    "                    menu[idx][\"flavor\"] = random.choices(flav,k=3)\n",
    "                    menu[idx][\"effect\"] = {} \n",
    "                    menu[idx][\"effect\"][\"positive\"] = random.choices(positive_effects,k=random.randint(1,4))\n",
    "                    menu[idx][\"effect\"][\"negative\"] = random.choices(negative_effects,k=random.randint(1,4))\n",
    "                    menu[idx][\"effect\"][\"negative\"] = random.choices(medical_effects,k=random.randint(1,4))\n",
    "    with open(fullpath, 'w') as fp:\n",
    "        json.dump(menu, fp)"
   ]
  },
  {
   "cell_type": "code",
   "execution_count": 38,
   "metadata": {},
   "outputs": [],
   "source": [
    "update_menu2('menus/', 'menu_dispensary33.json', data)\n",
    "update_menu2('menus/', 'menu_moderncann.json', data)"
   ]
  },
  {
   "cell_type": "markdown",
   "metadata": {},
   "source": [
    "# 2 Test demo menu files for 12 dispensaries"
   ]
  },
  {
   "cell_type": "code",
   "execution_count": 9,
   "metadata": {},
   "outputs": [
    {
     "name": "stdout",
     "output_type": "stream",
     "text": [
      "[1, 2]\n",
      "[3, 4]\n",
      "[5]\n",
      "[[1, 2], [3, 4], [5]]\n"
     ]
    }
   ],
   "source": [
    "import math\n",
    "import numpy as np\n",
    "mymenu = [1, 2, 3, 4, 5]\n",
    "print(mymenu[:math.ceil(len(mymenu)/3)])\n",
    "print(mymenu[math.ceil(len(mymenu)/3):2*math.ceil(len(mymenu)/3)])\n",
    "print(mymenu[2*math.ceil(len(mymenu)/3):])\n",
    "splits =3\n",
    "mymenus = [None]*splits\n",
    "for i in range(splits):\n",
    "    if i == splits-1:\n",
    "        mymenus[i] = mymenu[i*math.ceil(len(mymenu)/splits):]\n",
    "    else:    \n",
    "        mymenus[i] = mymenu[i*math.ceil(len(mymenu)/splits):(i+1)*math.ceil(len(mymenu)/splits)]\n",
    "print(mymenus)"
   ]
  },
  {
   "cell_type": "code",
   "execution_count": 10,
   "metadata": {},
   "outputs": [],
   "source": [
    "def split_menu(path, filename, splits=2):\n",
    "    \"\"\"\"\"\"\n",
    "    fullpath = path + filename + \".json\"\n",
    "    menus = [None]*splits\n",
    "    with open(fullpath, 'r') as fp:\n",
    "        menu = json.load(fp)\n",
    "        for i in range(splits):\n",
    "            if i == splits-1:\n",
    "                menus[i] = menu[i*math.ceil(len(menu)/splits):]\n",
    "            else:    \n",
    "                menus[i] = menu[i*math.ceil(len(menu)/splits):(i+1)*math.ceil(len(menu)/splits)]\n",
    "    for i in range(len(menus)):\n",
    "        with open(filename+\"test\"+str(i)+\".json\", 'w') as fp:\n",
    "            json.dump(menus[i], fp)"
   ]
  },
  {
   "cell_type": "code",
   "execution_count": 41,
   "metadata": {},
   "outputs": [],
   "source": [
    "split_menu(\"menus/\", \"menu_dispensary33\", 2)\n",
    "split_menu(\"menus/\", \"menu_moderncann\", 10)"
   ]
  },
  {
   "cell_type": "code",
   "execution_count": 40,
   "metadata": {},
   "outputs": [],
   "source": []
  }
 ],
 "metadata": {
  "kernelspec": {
   "display_name": "Python 3",
   "language": "python",
   "name": "python3"
  },
  "language_info": {
   "codemirror_mode": {
    "name": "ipython",
    "version": 3
   },
   "file_extension": ".py",
   "mimetype": "text/x-python",
   "name": "python",
   "nbconvert_exporter": "python",
   "pygments_lexer": "ipython3",
   "version": "3.7.1"
  }
 },
 "nbformat": 4,
 "nbformat_minor": 2
}
