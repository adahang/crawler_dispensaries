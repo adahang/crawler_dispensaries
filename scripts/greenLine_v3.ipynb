{
 "cells": [
  {
   "cell_type": "code",
   "execution_count": 15,
   "metadata": {},
   "outputs": [],
   "source": [
    "import io, time, json\n",
    "import requests\n",
    "from bs4 import BeautifulSoup\n",
    "import re"
   ]
  },
  {
   "cell_type": "code",
   "execution_count": 1,
   "metadata": {},
   "outputs": [],
   "source": [
    "a = {\"flor\": {\"flavor\":\"sweet\", \"effect\":{\"positive\":1, \"negative\":2, \"medical\":3}}}"
   ]
  },
  {
   "cell_type": "code",
   "execution_count": 96,
   "metadata": {},
   "outputs": [],
   "source": [
    "b = {\"FLOR EBD:132\": {\"flavor\":None, \"effect\":{\"positive\":None, \"negative\":None, \"medical\":None}}}"
   ]
  },
  {
   "cell_type": "code",
   "execution_count": 98,
   "metadata": {},
   "outputs": [
    {
     "name": "stdout",
     "output_type": "stream",
     "text": [
      "keyb: FLOR EBD:132, keya: flor\n"
     ]
    },
    {
     "data": {
      "text/plain": [
       "{'FLOR EBD:132': {'flavor': 'sweet',\n",
       "  'effect': {'positive': 1, 'negative': 2, 'medical': 3}}}"
      ]
     },
     "execution_count": 98,
     "metadata": {},
     "output_type": "execute_result"
    }
   ],
   "source": [
    "for keyb in b.keys():\n",
    "    for keya in a.keys():\n",
    "        if keyb.lower().find(keya.lower()) != -1:\n",
    "            b[keyb][\"effect\"] = a[keya][\"effect\"]\n",
    "            b[keyb][\"flavor\"] = a[keya][\"flavor\"]\n",
    "        print(\"keyb: %s, keya: %s\" %(keyb, keya))\n",
    "b"
   ]
  },
  {
   "cell_type": "code",
   "execution_count": 19,
   "metadata": {},
   "outputs": [],
   "source": [
    "with open('data.json', 'r') as fp:\n",
    "    data = json.load(fp)"
   ]
  },
  {
   "cell_type": "code",
   "execution_count": 102,
   "metadata": {},
   "outputs": [],
   "source": [
    "def update_menu(path, filename, data):\n",
    "    \"\"\"\"\"\"\n",
    "    fullpath = path + filename\n",
    "    menu = []\n",
    "    with open(fullpath, 'r') as fp:\n",
    "        menu = json.load(fp)\n",
    "        wnames = [m[\"name\"] for m in menu]\n",
    "        # print(wnames)\n",
    "        for idx in range(len(wnames)):\n",
    "#         for idx in range(10):\n",
    "            wname = wnames[idx].lower() # make it case in-sensitive\n",
    "            for d in data.keys():\n",
    "                if wname.find(d.lower()) != -1:\n",
    "                    # print(menu[idx]['effect'])\n",
    "                    # print(data[d])\n",
    "                    print(\"weed name: %s, d: %s, wname.find(d): %d\" %(wname, d, wname.find(d.lower())))\n",
    "                    menu[idx][\"effect\"] = data[d][\"effects\"]\n",
    "                    menu[idx][\"flavor\"] = data[d][\"flavors\"]\n",
    "                    break\n",
    "    with open(fullpath, 'w') as fp:\n",
    "        json.dump(menu, fp)"
   ]
  },
  {
   "cell_type": "code",
   "execution_count": 103,
   "metadata": {},
   "outputs": [
    {
     "name": "stdout",
     "output_type": "stream",
     "text": [
      "weed name: pink lemonade, d: Pink Lemonade, wname.find(d): 0\n",
      "weed name: “purple haze”, d: Haze, wname.find(d): 8\n",
      "weed name: “orange whip”, d: Or, wname.find(d): 1\n",
      "weed name: star killer, d: Star Killer, wname.find(d): 0\n",
      "weed name: lime sorbet, d: Or, wname.find(d): 6\n",
      "weed name: wookies, d: Wookie, wname.find(d): 0\n",
      "weed name: “orange herijuana”, d: Herijuana, wname.find(d): 8\n",
      "weed name: “orange whip” pre-rolled joint, d: Or, wname.find(d): 1\n",
      "weed name: ghost og – pre-rolled joints, d: Ghost OG, wname.find(d): 0\n",
      "weed name: kosher tangie – live sugar, d: Kosher Tangie, wname.find(d): 0\n",
      "weed name: durban poison – live budder, d: Durban Poison, wname.find(d): 0\n",
      "weed name: lime skunk – live sauce, d: Lime Skunk, wname.find(d): 0\n",
      "weed name: lime sorbet – live sauce, d: Or, wname.find(d): 6\n",
      "weed name: northern lights #5 – live sauce, d: Northern Lights, wname.find(d): 0\n",
      "weed name: bruce banner 1dot0 – hydrocarbon wax, d: Bruce Banner, wname.find(d): 0\n",
      "weed name: colombian gold – shatter, d: Colombian Gold, wname.find(d): 0\n",
      "weed name: g6 aka “jet fuel” – diamonds and sauce, d: Jet Fuel, wname.find(d): 8\n",
      "weed name: “watermelon” – ethanol distillate, d: Watermelon, wname.find(d): 1\n",
      "weed name: “lemon cake” – ethanol distillate, d: Lemon Cake, wname.find(d): 1\n",
      "weed name: pink lemonade – co2 + terpenes, d: Pink Lemonade, wname.find(d): 0\n",
      "weed name: 1:1 harlequin –  co2 cartridge, d: Harlequin, wname.find(d): 4\n",
      "weed name: sojay haze – liquid live resin, d: Haze, wname.find(d): 6\n",
      "weed name: wookies – sauce cart, d: Wookie, wname.find(d): 0\n",
      "weed name: “orange herijuana” – live resin, d: Herijuana, wname.find(d): 8\n",
      "weed name: jack herer – co2 + terpenes, d: Jack Herer, wname.find(d): 0\n",
      "weed name: double tangie banana – co2 + terpenes, d: Double Tangie Banana, wname.find(d): 0\n",
      "weed name: “alien orange candy” – co2 + terpenes, d: Or, wname.find(d): 7\n",
      "weed name: “l’orange” – ethanol distillate, d: Or, wname.find(d): 3\n",
      "weed name: “sunset sherbet” – ethanol distillate, d: Sunset Sherbet, wname.find(d): 1\n",
      "weed name: “watermelon sours” – gummies, d: Watermelon, wname.find(d): 1\n",
      "weed name: watermelon – gummy, d: Watermelon, wname.find(d): 0\n",
      "weed name: “dark blackberry” – dark chocolate, d: Blackberry, wname.find(d): 6\n",
      "weed name: wana blueberry sour gummies, d: Blueberry, wname.find(d): 5\n",
      "weed name: wana mango sour gummies, d: Mango, wname.find(d): 5\n",
      "weed name: “strawberry crunch” – chocolate bar, d: Strawberry, wname.find(d): 1\n",
      "weed name: incredible gummies 1:1 – “strawberry”, d: Strawberry, wname.find(d): 26\n",
      "weed name: incredibles sour gummies – “watermelon”, d: Watermelon, wname.find(d): 28\n",
      "weed name: “cucumber watermelon” – tonic shot, d: Watermelon, wname.find(d): 10\n",
      "weed name: “harmony” – 1:1 cbd tablets, d: Harmony, wname.find(d): 1\n"
     ]
    }
   ],
   "source": [
    "update_menu('menus/', 'menu_dispensary33.json', data)"
   ]
  },
  {
   "cell_type": "code",
   "execution_count": 104,
   "metadata": {},
   "outputs": [
    {
     "name": "stdout",
     "output_type": "stream",
     "text": [
      "weed name: ash catcher, d: Ash, wname.find(d): 0\n",
      "weed name: balm pain relief harmony 1:1 avexia, d: Harmony, wname.find(d): 17\n",
      "weed name: color crushed opal peak, d: Or, wname.find(d): 3\n",
      "weed name: 100 mg blueberry gummy 10 pack, d: Blueberry, wname.find(d): 7\n",
      "weed name: 100 mg orange gummy 10 pack, d: Or, wname.find(d): 7\n",
      "weed name: 100 mg strawberry gummy 10 pack, d: Strawberry, wname.find(d): 7\n",
      "weed name: mango fruit chews 10 pack, d: Mango, wname.find(d): 0\n",
      "weed name: strawberry banana fruit chews 10 pack, d: Strawberry, wname.find(d): 0\n",
      "weed name: sweet strawberry sparkling 10 pack, d: Strawberry, wname.find(d): 6\n",
      "weed name: sweet vanilla butterscotch 10 pack, d: Butterscotch, wname.find(d): 14\n",
      "weed name: hale mix sunflower/pumpkin seed, d: Flo, wname.find(d): 12\n",
      "weed name: wana blueberry indica gummies 10 pack, d: Blueberry, wname.find(d): 5\n",
      "weed name: wana mango sativa gummies 10 pack, d: Mango, wname.find(d): 5\n",
      "weed name: incredibles red licorice 10 pack, d: Ice, wname.find(d): 21\n",
      "weed name: incredibles strawberry cbd:thc gummy 10 pack, d: Strawberry, wname.find(d): 12\n",
      "weed name: incredibles watermelon gummy 10 pack, d: Melon Gum, wname.find(d): 17\n",
      "weed name: indica watermelon gummies 20 pack, d: Melon Gum, wname.find(d): 12\n",
      "weed name: sativa watermelon gummies 20 pack, d: Melon Gum, wname.find(d): 12\n",
      "weed name: fruit goobies cbd (orange) 4pack, d: Goo, wname.find(d): 6\n",
      "weed name: fruit goobies mango 4 pack, d: Goo, wname.find(d): 6\n",
      "weed name: fruit goobies strawberry , d: Goo, wname.find(d): 6\n",
      "weed name: fruit goobies wild cherry 1:1 4 pack, d: Goo, wname.find(d): 6\n",
      "weed name: gorilla chew single, d: Or, wname.find(d): 1\n",
      "weed name: surp blueberry cbd, d: Blueberry, wname.find(d): 5\n",
      "weed name: surp cherry limeade, d: Cherry Limeade, wname.find(d): 5\n",
      "weed name: surp mango strawberry, d: Mango, wname.find(d): 5\n",
      "weed name: surp orange pineapple guava, d: Or, wname.find(d): 5\n",
      "weed name: avexia comfort 2:1 cbd:thc 40 pack, d: Or, wname.find(d): 11\n",
      "weed name: suppository 1:1 4 pack, d: Or, wname.find(d): 8\n",
      "weed name: 100mg harmony milk chocolate multi-pack, d: Harmony, wname.find(d): 6\n",
      "weed name: dark chocolate sea salt 1:1 harmony, d: Harmony, wname.find(d): 28\n",
      "weed name: kiva dark blackberry bar, d: Blackberry, wname.find(d): 10\n",
      "weed name: kiva milk blueberry terra bites 20 pack, d: Blueberry, wname.find(d): 10\n",
      "weed name: incredibles strawberry crunch, d: Strawberry, wname.find(d): 12\n",
      "weed name: forbidden fruit, d: Or, wname.find(d): 1\n",
      "weed name: durban poison, d: Durban Poison, wname.find(d): 0\n",
      "weed name: durban poison , d: Durban Poison, wname.find(d): 0\n",
      "weed name: katsu bubba kush, d: Bubba Kush, wname.find(d): 6\n",
      "weed name: katsu bubba kush , d: Bubba Kush, wname.find(d): 6\n",
      "weed name: lime skunk, d: Lime Skunk, wname.find(d): 0\n",
      "weed name: lime skunk, d: Lime Skunk, wname.find(d): 0\n",
      "weed name: orange herijuana , d: Herijuana, wname.find(d): 7\n",
      "weed name: orange herijuana , d: Herijuana, wname.find(d): 7\n",
      "weed name: key lime remedy, d: Remedy, wname.find(d): 9\n",
      "weed name: blueberry x clementine, d: Blueberry, wname.find(d): 0\n",
      "weed name: cookies and cream, d: Cookies and Cream, wname.find(d): 0\n",
      "weed name: florida orange, d: Flo, wname.find(d): 0\n",
      "weed name: baily colored spoon, d: Or, wname.find(d): 9\n",
      "weed name: 3 hole hash bowl bubbler, d: Ash, wname.find(d): 8\n",
      "weed name: blue dream/ hot sauce attachment, d: Blue Dream, wname.find(d): 0\n",
      "weed name: paralax cfl sublime attachment, d: Sublime, wname.find(d): 12\n",
      "weed name: katsu bubba kush single, d: Bubba Kush, wname.find(d): 6\n",
      "weed name: lime skunk single, d: Lime Skunk, wname.find(d): 0\n",
      "weed name: dogwalkers orange herijuana 5 pack, d: Herijuana, wname.find(d): 18\n",
      "weed name: dogwalkers strawberry kush 5 pack, d: Strawberry, wname.find(d): 11\n",
      "weed name: pink kush live sugar, d: Pink Kush, wname.find(d): 0\n",
      "weed name: lime skunk sauce, d: Lime Skunk, wname.find(d): 0\n",
      "weed name: 707 headband, d: Headband, wname.find(d): 4\n",
      "weed name: blueberry x mazar sauce, d: Blueberry, wname.find(d): 0\n",
      "weed name: blueberry clementine sauce, d: Blueberry, wname.find(d): 0\n",
      "weed name: dr. peel good, d: Goo, wname.find(d): 9\n",
      "weed name: kandy kush og sauce, d: Kandy Kush, wname.find(d): 0\n",
      "weed name: bruce banner #3, d: Bruce Banner, wname.find(d): 0\n",
      "weed name: gelato, d: Gelato, wname.find(d): 0\n",
      "weed name: ghost train haze, d: Ghost Train Haze, wname.find(d): 0\n",
      "weed name: super glue, d: Super G, wname.find(d): 0\n",
      "weed name: white harmony , d: Harmony, wname.find(d): 6\n",
      "weed name: 4:1 harle-tsu co2, d: Harle-Tsu, wname.find(d): 4\n",
      "weed name: critical purple kush liquid live resin, d: Purple Kush, wname.find(d): 9\n",
      "weed name: harlequin 1:1 co2, d: Harlequin, wname.find(d): 0\n",
      "weed name: harlequin 2:1 co2, d: Harlequin, wname.find(d): 0\n",
      "weed name: island sweet skunk bho, d: Island Sweet Skunk, wname.find(d): 0\n",
      "weed name: sugar plum sunset liquid live resin, d: Sugar Plum, wname.find(d): 0\n",
      "weed name: ghost og co2, d: Ghost OG, wname.find(d): 0\n",
      "weed name: gorilla kush co2, d: LA Kush, wname.find(d): 5\n",
      "weed name: jack herer co2, d: Jack Herer, wname.find(d): 0\n",
      "weed name: og kush co2, d: OG Kush, wname.find(d): 0\n",
      "weed name: pax harlequin, d: Harlequin, wname.find(d): 4\n",
      "weed name: pax kosher kush, d: Kosher Kush, wname.find(d): 4\n",
      "weed name: stardawg guava co2, d: Stardawg, wname.find(d): 0\n",
      "weed name: alien rock candy co2, d: Alien Rock Candy, wname.find(d): 0\n",
      "weed name: cookies and cream, d: Cookies and Cream, wname.find(d): 0\n",
      "weed name: double gorilla og co2, d: LA OG, wname.find(d): 12\n",
      "weed name: kandy kush og x revolution remedy co2, d: Kandy Kush, wname.find(d): 0\n",
      "weed name: alien bubba, d: Alien Bubba, wname.find(d): 0\n",
      "weed name: sojay haze bho, d: Haze, wname.find(d): 6\n",
      "weed name: sour pink grapefruit bho , d: Grapefruit, wname.find(d): 10\n",
      "weed name: star killer, d: Star Killer, wname.find(d): 0\n",
      "weed name: blue dream co2, d: Blue Dream, wname.find(d): 0\n",
      "weed name: clementine co2, d: Clementine, wname.find(d): 0\n",
      "weed name: jack herer co2, d: Jack Herer, wname.find(d): 0\n",
      "weed name: orange herijuana, d: Herijuana, wname.find(d): 7\n",
      "weed name: stardawg guava co2, d: Stardawg, wname.find(d): 0\n",
      "weed name: gobbstopper, d: Gobbstopper, wname.find(d): 0\n",
      "weed name: purple thai, d: Purple Thai, wname.find(d): 0\n",
      "weed name: wild thai, d: Thai, wname.find(d): 5\n",
      "weed name: gordo scientific carb cap stand, d: Or, wname.find(d): 1\n",
      "weed name: raw organic hemp 1 1/4 rolling papers, d: Or, wname.find(d): 4\n",
      "weed name: str8 blazer torch case, d: Blaze, wname.find(d): 5\n",
      "weed name: storage puck, d: Or, wname.find(d): 2\n",
      "weed name: east coast sour diesel , d: East Coast Sour Diesel, wname.find(d): 0\n",
      "weed name: ghost train haze, d: Ghost Train Haze, wname.find(d): 0\n",
      "weed name: galactic jack, d: Galactic Jack, wname.find(d): 0\n",
      "weed name: dragon tears double gorilla og , d: LA OG, wname.find(d): 25\n",
      "weed name: dragon tears luckleberries #59 x revolution remedy, d: Remedy, wname.find(d): 44\n",
      "weed name: dragon tears red headed stranger, d: Red Headed Stranger, wname.find(d): 13\n",
      "weed name: jack herer sunrock, d: Jack Herer, wname.find(d): 0\n",
      "weed name: colombian gold, d: Colombian Gold, wname.find(d): 0\n",
      "weed name: gobbstopper, d: Gobbstopper, wname.find(d): 0\n",
      "weed name: cbn oral spray, d: Or, wname.find(d): 4\n",
      "weed name: indica oral spray, d: Or, wname.find(d): 7\n",
      "weed name: sativa oral spray, d: Or, wname.find(d): 7\n",
      "weed name: mary's medicinal coltyn's remedy 1:1, d: Remedy, wname.find(d): 26\n",
      "weed name: blazer torch guard, d: Blaze, wname.find(d): 0\n",
      "weed name: blue blazer torch, d: Blaze, wname.find(d): 5\n",
      "weed name: blazer big shot gt8000, d: Blaze, wname.find(d): 0\n"
     ]
    }
   ],
   "source": [
    "update_menu('menus/', 'menu_moderncann.json', data)"
   ]
  }
 ],
 "metadata": {
  "kernelspec": {
   "display_name": "Python 3",
   "language": "python",
   "name": "python3"
  },
  "language_info": {
   "codemirror_mode": {
    "name": "ipython",
    "version": 3
   },
   "file_extension": ".py",
   "mimetype": "text/x-python",
   "name": "python",
   "nbconvert_exporter": "python",
   "pygments_lexer": "ipython3",
   "version": "3.7.1"
  }
 },
 "nbformat": 4,
 "nbformat_minor": 2
}
