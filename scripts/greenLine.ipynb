{
 "cells": [
  {
   "cell_type": "markdown",
   "metadata": {},
   "source": [
    "CS594 Green Line\n",
    "[Due on Oct19]Step1: Collect data on list of dispensaries from online : \n",
    "1. In Phase1, fields are as below:\n",
    ">name\n",
    ">street lnie 1,street line 2,city,state,zip code\n",
    ">tel\n",
    "\n",
    "2. As for weeds lists, we assume that the dispensaries have their own inventories like a CSV or .xls file containing the usage(recreational, medical, etc), storage(0-10^10 gram), unit prices for each weed items.\n",
    "\n",
    "3. Pase2:\n",
    ">image(TBD), open time\n"
   ]
  },
  {
   "cell_type": "code",
   "execution_count": 145,
   "metadata": {},
   "outputs": [],
   "source": [
    "import io, time, json\n",
    "import requests\n",
    "from bs4 import BeautifulSoup"
   ]
  },
  {
   "cell_type": "code",
   "execution_count": 146,
   "metadata": {},
   "outputs": [],
   "source": [
    "def parse_page(html):\n",
    "    \"\"\"\n",
    "    Parse the dispensary links on a single page of a websites.\n",
    "    \n",
    "    Args:\n",
    "        html (string): String of HTML\n",
    "\n",
    "    Returns:\n",
    "        \n",
    "    \"\"\"\n",
    "    soup = BeautifulSoup(html,'html.parser')\n",
    "    urls = soup.find_all('a', itemprop=\"url\")\n",
    "    #use beautifulsoup CSS selectors to select and construct the review dict\n",
    "    d_links=[]\n",
    "    for url in urls:\n",
    "        d_link = url.get('href')\n",
    "        d_links.append(d_link)\n",
    "    return d_links"
   ]
  },
  {
   "cell_type": "code",
   "execution_count": 147,
   "metadata": {},
   "outputs": [],
   "source": [
    "def retrieve_html(url, parse_f=parse_page):\n",
    "    \"\"\"\n",
    "    Return the raw HTML at the specified URL.\n",
    "    \"\"\"\n",
    "    resp = requests.request('GET', url)\n",
    "    dispensary_links = parse_f(resp.text)\n",
    "    #use a list to store all dispensary links\n",
    "    \n",
    "    return resp.status_code, dispensary_links"
   ]
  },
  {
   "cell_type": "code",
   "execution_count": 148,
   "metadata": {},
   "outputs": [],
   "source": [
    "#retrieve_html('https://wheresweed.com/illinois/chicago/marijuana-dispensaries')"
   ]
  },
  {
   "cell_type": "code",
   "execution_count": 149,
   "metadata": {},
   "outputs": [],
   "source": [
    "#https://potguide.com/illinois/marijuana-dispensaries/chicago/\n",
    "def parse_Chicago_dispensaries_page(html):\n",
    "    \"\"\"\n",
    "    Parse the reviews on a single page of a restaurant.\n",
    "    \n",
    "    Args:\n",
    "        html (string): String of HTML corresponding to a Yelp restaurant\n",
    "\n",
    "    Returns:\n",
    "        tuple(list, string): a tuple of two elements\n",
    "            first element: list of dictionaries corresponding to the extracted review information\n",
    "            second element: URL for the next page of reviews (or None if it is the last page)\n",
    "    \"\"\"\n",
    "    soup = BeautifulSoup(html,'html.parser')\n",
    "\n",
    "    divs = soup.find_all('div', \"basic-listing\")\n",
    "    \n",
    "    #use beautifulsoup CSS selectors to select and construct the review dict\n",
    "    dispensaries = []\n",
    "    for d in divs:\n",
    "        dispensary={}\n",
    "#         d_profile = \"https://potguide.com/\" + d.contents[1].contents[0].get('href')\n",
    "        d_name = d.contents[1].contents[0].string\n",
    "        d_add = d.contents[2].string.strip() + \", \" + d.contents[4].string.strip()\n",
    "        d_phone = d.contents[6].string.strip().lstrip(\" Phone: \")\n",
    "        d_website = d.contents[11].get(\"href\")\n",
    "        \n",
    "        dispensary[\"name\"] = d_name\n",
    "#         dispensary[\"profile\"] = d_profile\n",
    "        dispensary[\"add\"] = d_add\n",
    "        dispensary[\"phone\"] = d_phone\n",
    "        dispensary[\"website\"] = d_website\n",
    "#         print(d.contents)\n",
    "        dispensaries.append(dispensary)\n",
    "        print(\"d_website\", d_website)\n",
    "    return dispensaries"
   ]
  },
  {
   "cell_type": "markdown",
   "metadata": {},
   "source": [
    "# Stage 2 Some other webiste to collect dispensaries info\n",
    "\n",
    "## 1 Work on new dispensary Json\n",
    "TBD"
   ]
  },
  {
   "cell_type": "code",
   "execution_count": 150,
   "metadata": {
    "scrolled": true
   },
   "outputs": [
    {
     "name": "stdout",
     "output_type": "stream",
     "text": [
      "d_website https://col-care.com/location/chicago?utm_source=PotGuide&sid=159225\n",
      "d_website http://dispensary33.com/?utm_source=PotGuide&sid=159226\n",
      "d_website http://greengatechicago.com/?utm_source=PotGuide&sid=499029\n",
      "d_website https://www.maribisllc.com/?utm_source=PotGuide&sid=159240\n",
      "d_website https://www.medmardispensary.com/?utm_source=PotGuide&sid=159242\n",
      "d_website http://www.midwaydispensary.com/?utm_source=PotGuide&sid=159244\n",
      "d_website https://missiondispensaries.com/chicago-il/?utm_source=PotGuide&sid=179810\n",
      "d_website https://moderncann.com/?utm_source=PotGuide&sid=159247\n",
      "d_website http://www.numed.com/chicago?utm_source=PotGuide&sid=584880\n",
      "d_website http://theherbalcarecenter.com/?utm_source=PotGuide&sid=159266\n",
      "d_website http://www.zenleafil.com/?utm_source=PotGuide&sid=159270\n"
     ]
    }
   ],
   "source": [
    "# name, category, flavor, unit price, totals-in-storage\n",
    "stat_code, dispensaries2 = retrieve_html(\"https://potguide.com/illinois/marijuana-dispensaries/chicago/\", \n",
    "                              parse_Chicago_dispensaries_page)"
   ]
  },
  {
   "cell_type": "code",
   "execution_count": 151,
   "metadata": {},
   "outputs": [],
   "source": [
    "with open('dispensaries2.json', 'w') as fp:\n",
    "    json.dump(dispensaries2, fp)"
   ]
  },
  {
   "cell_type": "markdown",
   "metadata": {},
   "source": [
    "## 2 Work on the weed list in each dispensary"
   ]
  }
 ],
 "metadata": {
  "kernelspec": {
   "display_name": "Python 3",
   "language": "python",
   "name": "python3"
  },
  "language_info": {
   "codemirror_mode": {
    "name": "ipython",
    "version": 3
   },
   "file_extension": ".py",
   "mimetype": "text/x-python",
   "name": "python",
   "nbconvert_exporter": "python",
   "pygments_lexer": "ipython3",
   "version": "3.7.1"
  }
 },
 "nbformat": 4,
 "nbformat_minor": 2
}
