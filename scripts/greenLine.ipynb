{
 "cells": [
  {
   "cell_type": "markdown",
   "metadata": {},
   "source": [
    "CS594 Green Line\n",
    "[Due on Oct19]Step1: Collect data on list of dispensaries from online : \n",
    "1. In Phase1, fields are as below:\n",
    ">name\n",
    ">street lnie 1,street line 2,city,state,zip code\n",
    ">tel\n",
    "\n",
    "2. As for weeds lists, we assume that the dispensaries have their own inventories like a CSV or .xls file containing the usage(recreational, medical, etc), storage(0-10^10 gram), unit prices for each weed items.\n",
    "\n",
    "3. Pase2:\n",
    ">image(TBD), open time\n"
   ]
  },
  {
   "cell_type": "code",
   "execution_count": 5,
   "metadata": {},
   "outputs": [],
   "source": [
    "import io, time, json\n",
    "import requests\n",
    "from bs4 import BeautifulSoup"
   ]
  },
  {
   "cell_type": "code",
   "execution_count": 26,
   "metadata": {},
   "outputs": [],
   "source": [
    "def parse_page(html):\n",
    "    \"\"\"\n",
    "    Parse the reviews on a single page of a restaurant.\n",
    "    \n",
    "    Args:\n",
    "        html (string): String of HTML corresponding to a Yelp restaurant\n",
    "\n",
    "    Returns:\n",
    "        tuple(list, string): a tuple of two elements\n",
    "            first element: list of dictionaries corresponding to the extracted review information\n",
    "            second element: URL for the next page of reviews (or None if it is the last page)\n",
    "    \"\"\"\n",
    "    soup = BeautifulSoup(html,'html.parser')\n",
    "\n",
    "    urls = soup.find_all('a', itemprop=\"url\")\n",
    "\n",
    "    #use beautifulsoup CSS selectors to select and construct the review dict\n",
    "    d_links=[]\n",
    "    for url in urls:\n",
    "        d_link = url.get('href')\n",
    "        d_links.append(d_link)\n",
    "#     for r in reviews:\n",
    "#         review_dict = {}\n",
    "#         r_contents = r.find_all('meta')\n",
    "#         review_dict['user_id'] = r_contents[0].get('content')\n",
    "#         review_dict['rating'] = float(r_contents[1].get('content'))\n",
    "#         review_dict['date'] = r_contents[2].get('content')\n",
    "#         review_dict['text'] = r.find('p').contents[0]\n",
    "#         reviews_list.append(review_dict)\n",
    "    return d_links"
   ]
  },
  {
   "cell_type": "code",
   "execution_count": 78,
   "metadata": {},
   "outputs": [],
   "source": [
    "def retrieve_html(url, parse_f=parse_page):\n",
    "    \"\"\"\n",
    "    Return the raw HTML at the specified URL.\n",
    "\n",
    "    Args:\n",
    "        url (string): \n",
    "\n",
    "    Returns:\n",
    "        status_code (integer):\n",
    "        raw_html (string): the raw HTML content of the response, properly encoded according to the HTTP headers.\n",
    "    \"\"\"\n",
    "    resp = requests.request('GET', url)\n",
    "    dispensary_links = parse_f(resp.text)\n",
    "    #use a list to store all dispensary links\n",
    "    \n",
    "    return resp.status_code, dispensary_links"
   ]
  },
  {
   "cell_type": "code",
   "execution_count": 79,
   "metadata": {},
   "outputs": [
    {
     "data": {
      "text/plain": [
       "(200,\n",
       " ['https://wheresweed.com/illinois/chicago/marijuana-dispensaries/medmar-chicago',\n",
       "  'https://wheresweed.com/illinois/rolling-meadows/marijuana-dispensaries/natures-care',\n",
       "  'https://wheresweed.com/illinois/elmwood-park/marijuana-dispensaries/floramedex',\n",
       "  'https://wheresweed.com/illinois/chicago/marijuana-dispensaries/green-pinnacle',\n",
       "  'https://wheresweed.com/illinois/buffalo-grove/marijuana-dispensaries/pdi-medical',\n",
       "  'https://wheresweed.com/illinois/oak-park/marijuana-dispensaries/seven-point-il',\n",
       "  'https://wheresweed.com/illinois/chicago/marijuana-dispensaries/chicago-test',\n",
       "  'https://wheresweed.com/illinois/addison/marijuana-dispensaries/earthmed',\n",
       "  'https://wheresweed.com/illinois/schaumburg/marijuana-dispensaries/pharmacannis-health-and-wellness-schaumburg',\n",
       "  'https://wheresweed.com/illinois/naperville/marijuana-dispensaries/3c-dispensary--naperville',\n",
       "  'https://wheresweed.com/illinois/addison/marijuana-dispensaries/mindful-medical-marijuana-dispensary',\n",
       "  'https://wheresweed.com/illinois/mount-prospect/marijuana-dispensaries/new-age-care',\n",
       "  'https://wheresweed.com/illinois/highland-park/marijuana-dispensaries/elevele',\n",
       "  'https://wheresweed.com/illinois/arlington-heights/marijuana-dispensaries/verilife--arlington-heights',\n",
       "  'https://wheresweed.com/illinois/homewood/marijuana-dispensaries/windy-city-cannabis',\n",
       "  'https://wheresweed.com/illinois/arlington-heights/marijuana-dispensaries/verilife-il',\n",
       "  'https://wheresweed.com/illinois/deerfield/marijuana-dispensaries/greenhouse-group--deerfield',\n",
       "  'https://wheresweed.com/illinois/deerfield/marijuana-dispensaries/greenhouse--deerfield',\n",
       "  'https://wheresweed.com/illinois/evanston/marijuana-dispensaries/pharmacannis',\n",
       "  'https://wheresweed.com/illinois/chicago/marijuana-dispensaries/mission-illinois',\n",
       "  'https://wheresweed.com/illinois/justice/marijuana-dispensaries/windy-city-cannabis--justice',\n",
       "  'https://wheresweed.com/illinois/posen/marijuana-dispensaries/windy-city-cannabis--posen',\n",
       "  'https://wheresweed.com/illinois/chicago/marijuana-dispensaries/greengate--chicago',\n",
       "  'https://wheresweed.com/illinois/worth/marijuana-dispensaries/windy-city-cannabis--worth'])"
      ]
     },
     "execution_count": 79,
     "metadata": {},
     "output_type": "execute_result"
    }
   ],
   "source": [
    "retrieve_html('https://wheresweed.com/illinois/chicago/marijuana-dispensaries')"
   ]
  },
  {
   "cell_type": "code",
   "execution_count": 59,
   "metadata": {},
   "outputs": [],
   "source": [
    "def extract_infos(url):\n",
    "    \"\"\"\n",
    "    Retrieve ALL of the reviews for a single restaurant on Yelp.\n",
    "\n",
    "    Parameters:\n",
    "        url (string): Yelp URL corresponding to the restaurant of interest.\n",
    "\n",
    "    Returns:\n",
    "        reviews (list): list of dictionaries containing extracted review information\n",
    "    \"\"\"\n",
    "#     1st retrieve the HTML string with specified url\n",
    "    resp = requests.get(url)\n",
    "#     resp = requests.request('GET', url)\n",
    "#     2nd extract the reviews list and url_next\n",
    "    dispensary_links = parse_page(resp.text)\n",
    "    total_links = len(dispensary_links)\n",
    "    dispensaries = []\n",
    "    \n",
    "    if  total_links > 0:\n",
    "        for link in dispensary_links:\n",
    "            r = requests.get(link)\n",
    "            dispensary = parse_info(r.text)\n",
    "            dispensaries.append(dispensary)\n",
    "    \n",
    "    return dispensaries"
   ]
  },
  {
   "cell_type": "code",
   "execution_count": 75,
   "metadata": {},
   "outputs": [],
   "source": [
    "def parse_info(html):\n",
    "    \"\"\"\n",
    "    Parse the reviews on a single page of a restaurant.\n",
    "    \n",
    "    Args:\n",
    "        html (string): String of HTML corresponding to a Yelp restaurant\n",
    "\n",
    "    Returns:\n",
    "        tuple(list, string): a tuple of two elements\n",
    "            first element: list of dictionaries corresponding to the extracted review information\n",
    "            second element: URL for the next page of reviews (or None if it is the last page)\n",
    "    \"\"\"\n",
    "    soup = BeautifulSoup(html,'html.parser')\n",
    "    #<meta property=\"business:contact_data:street_address\"\n",
    "    store_name = soup.find('h1').contents[0].contents[0]\n",
    "#     print(store_name.contents)\n",
    "    street_addr = soup.find('meta', property=\"business:contact_data:street_address\")\n",
    "    locality = soup.find('meta', property=\"business:contact_data:locality\")\n",
    "    country = soup.find('meta', property=\"business:contact_data:country\")\n",
    "    postcode = soup.find('meta', property=\"business:contact_data:postal_code\")\n",
    "    phone_number = soup.find('meta', property=\"business:contact_data:phone_number\")\n",
    "    #use beautifulsoup CSS selectors to select and construct the review dict\n",
    "    store_dict = {}\n",
    "    store_dict[\"store_name\"] = store_name\n",
    "    if street_addr != None:\n",
    "        store_dict[\"street_addr\"] = street_addr.get('content')\n",
    "    else:\n",
    "        # give a fake address temporarily\n",
    "        store_dict[\"street_addr\"] = \"807F South Halsted Street\"\n",
    "    if locality != None:\n",
    "        store_dict[\"locality\"] = locality.get('content')\n",
    "    else:\n",
    "        # give a fake one temporarily\n",
    "        store_dict[\"locality\"] = \"Greek Town\"\n",
    "    if country != None:\n",
    "        store_dict[\"country\"] = country.get('content')\n",
    "    else:\n",
    "        store_dict[\"country\"] = \"United Streets\"\n",
    "    if postcode != None:\n",
    "        store_dict[\"postcode\"] = postcode.get('content')\n",
    "    else:\n",
    "        store_dict[\"postcode\"] = \"60607\"\n",
    "    if phone_number != None:\n",
    "        store_dict[\"phone_number\"] = phone_number.get('content')\n",
    "    else:\n",
    "        store_dict[\"phone_number\"] = \"302-8888-0001\"\n",
    "#     for r in reviews:\n",
    "#         review_dict = {}\n",
    "#         r_contents = r.find_all('meta')\n",
    "#         review_dict['user_id'] = r_contents[0].get('content')\n",
    "#         review_dict['rating'] = float(r_contents[1].get('content'))\n",
    "#         review_dict['date'] = r_contents[2].get('content')\n",
    "#         review_dict['text'] = r.find('p').contents[0]\n",
    "#         reviews_list.append(review_dict)\n",
    "    return store_dict"
   ]
  },
  {
   "cell_type": "code",
   "execution_count": 76,
   "metadata": {},
   "outputs": [],
   "source": [
    "# https://potguide.com/illinois/marijuana-dispensaries/chicago/\n",
    "stores = extract_infos(\"https://wheresweed.com/illinois/chicago/marijuana-dispensaries\")"
   ]
  },
  {
   "cell_type": "code",
   "execution_count": 83,
   "metadata": {},
   "outputs": [],
   "source": [
    "print(stores, len(stores))\n",
    "import json\n",
    "\n",
    "with open('dispensaries.json', 'w') as fp:\n",
    "    json.dump(stores, fp)"
   ]
  },
  {
   "cell_type": "code",
   "execution_count": 81,
   "metadata": {},
   "outputs": [],
   "source": [
    "#https://potguide.com/illinois/marijuana-dispensaries/chicago/\n",
    "def parse_Chicago_dispensaries_page(html):\n",
    "    \"\"\"\n",
    "    Parse the reviews on a single page of a restaurant.\n",
    "    \n",
    "    Args:\n",
    "        html (string): String of HTML corresponding to a Yelp restaurant\n",
    "\n",
    "    Returns:\n",
    "        tuple(list, string): a tuple of two elements\n",
    "            first element: list of dictionaries corresponding to the extracted review information\n",
    "            second element: URL for the next page of reviews (or None if it is the last page)\n",
    "    \"\"\"\n",
    "    soup = BeautifulSoup(html,'html.parser')\n",
    "\n",
    "    urls = soup.find_all('div', \"basic-listing\")\n",
    "\n",
    "    #use beautifulsoup CSS selectors to select and construct the review dict\n",
    "    d_links=[]\n",
    "    for url in urls:\n",
    "        d_link = url.contents\n",
    "        print(d_link)\n",
    "#     for r in reviews:\n",
    "#         review_dict = {}\n",
    "#         r_contents = r.find_all('meta')\n",
    "#         review_dict['user_id'] = r_contents[0].get('content')\n",
    "#         review_dict['rating'] = float(r_contents[1].get('content'))\n",
    "#         review_dict['date'] = r_contents[2].get('content')\n",
    "#         review_dict['text'] = r.find('p').contents[0]\n",
    "#         reviews_list.append(review_dict)\n",
    "    return d_links"
   ]
  },
  {
   "cell_type": "markdown",
   "metadata": {},
   "source": [
    "# stage 2 Some other webiste to collect dispensaries info\n",
    "TBD"
   ]
  },
  {
   "cell_type": "code",
   "execution_count": 82,
   "metadata": {},
   "outputs": [
    {
     "name": "stdout",
     "output_type": "stream",
     "text": [
      "['\\n', <h4><a href=\"/illinois/marijuana-dispensaries/chicago/columbia-care-chicago/\" target=\"_blank\">Columbia Care - Chicago</a></h4>, '\\r\\n4758 N Milwaukee Ave', <br/>, '\\r\\n                    Chicago, IL 60630', <br/>, '\\r\\n                        \\r\\n                            Phone: (312) 948-9082\\r\\n                            ', <br/>, '\\n', <ul class=\"list-unstyled list-inline\" style=\"margin-top: 5px;\">\n",
      "<li style=\"padding: 3px; background: #efefef; border-radius: 4px;\"><img alt=\"Medicinal\" data-placement=\"top\" data-toggle=\"tooltip\" src=\"https://static.potguide.com/images/icon-med.png\" style=\"height: 24px; width: 24px;\" title=\"Medical Sales\"/></li>\n",
      "</ul>, '\\n', <a class=\"btn-u btn-u-xs text-white rounded\" href=\"https://col-care.com/location/chicago?utm_source=PotGuide&amp;sid=159225\" style=\"margin-right: 10px;\" target=\"_blank\">Website</a>, '\\n', <a class=\"btn-u btn-u-xs text-white rounded\" href=\"/illinois/marijuana-dispensaries/chicago/columbia-care-chicago/\" target=\"_blank\">Store Profile</a>, '\\n']\n",
      "['\\n', <h4><a href=\"/illinois/marijuana-dispensaries/chicago/dispensary-33/\" target=\"_blank\">Dispensary 33</a></h4>, '\\r\\n5001 N Clark St', <br/>, '\\r\\n                    Chicago, IL 60640', <br/>, '\\r\\n                        \\r\\n                            Phone: (312) 620-3333\\r\\n                            ', <br/>, '\\n', <ul class=\"list-unstyled list-inline\" style=\"margin-top: 5px;\">\n",
      "<li style=\"padding: 3px; background: #efefef; border-radius: 4px;\"><img alt=\"Medicinal\" data-placement=\"top\" data-toggle=\"tooltip\" src=\"https://static.potguide.com/images/icon-med.png\" style=\"height: 24px; width: 24px;\" title=\"Medical Sales\"/></li>\n",
      "</ul>, '\\n', <a class=\"btn-u btn-u-xs text-white rounded\" href=\"http://dispensary33.com/?utm_source=PotGuide&amp;sid=159226\" style=\"margin-right: 10px;\" target=\"_blank\">Website</a>, '\\n', <a class=\"btn-u btn-u-xs text-white rounded\" href=\"/illinois/marijuana-dispensaries/chicago/dispensary-33/\" target=\"_blank\">Store Profile</a>, '\\n']\n",
      "['\\n', <h4><a href=\"/illinois/marijuana-dispensaries/chicago/greengate/\" target=\"_blank\">GreenGate</a></h4>, '\\r\\n7305 N Rogers Ave', <br/>, '\\r\\n                    Chicago, IL 60626', <br/>, '\\r\\n                        \\r\\n                            Phone: (773) 516-4007\\r\\n                            ', <br/>, '\\n', <ul class=\"list-unstyled list-inline\" style=\"margin-top: 5px;\">\n",
      "<li style=\"padding: 3px; background: #efefef; border-radius: 4px;\"><img alt=\"Medicinal\" data-placement=\"top\" data-toggle=\"tooltip\" src=\"https://static.potguide.com/images/icon-med.png\" style=\"height: 24px; width: 24px;\" title=\"Medical Sales\"/></li>\n",
      "</ul>, '\\n', <a class=\"btn-u btn-u-xs text-white rounded\" href=\"http://greengatechicago.com/?utm_source=PotGuide&amp;sid=499029\" style=\"margin-right: 10px;\" target=\"_blank\">Website</a>, '\\n', <a class=\"btn-u btn-u-xs text-white rounded\" href=\"/illinois/marijuana-dispensaries/chicago/greengate/\" target=\"_blank\">Store Profile</a>, '\\n']\n",
      "['\\n', <h4><a href=\"/illinois/marijuana-dispensaries/chicago/maribis-of-chicago/\" target=\"_blank\">Maribis of Chicago</a></h4>, '\\r\\n4570 S Archer Ave', <br/>, '\\r\\n                    Chicago, IL 60632', <br/>, '\\r\\n                        \\r\\n                            Phone: (888) 888-5501\\r\\n                            ', <br/>, '\\n', <ul class=\"list-unstyled list-inline\" style=\"margin-top: 5px;\">\n",
      "<li style=\"padding: 3px; background: #efefef; border-radius: 4px;\"><img alt=\"Medicinal\" data-placement=\"top\" data-toggle=\"tooltip\" src=\"https://static.potguide.com/images/icon-med.png\" style=\"height: 24px; width: 24px;\" title=\"Medical Sales\"/></li>\n",
      "</ul>, '\\n', <a class=\"btn-u btn-u-xs text-white rounded\" href=\"https://www.maribisllc.com/?utm_source=PotGuide&amp;sid=159240\" style=\"margin-right: 10px;\" target=\"_blank\">Website</a>, '\\n', <a class=\"btn-u btn-u-xs text-white rounded\" href=\"/illinois/marijuana-dispensaries/chicago/maribis-of-chicago/\" target=\"_blank\">Store Profile</a>, '\\n']\n",
      "['\\n', <h4><a href=\"/illinois/marijuana-dispensaries/chicago/medmar-lakeview/\" target=\"_blank\">MedMar - Lakeview</a></h4>, '\\r\\n3812 N Clark St', <br/>, '\\r\\n                    Chicago, IL 60613', <br/>, '\\r\\n                        \\r\\n                            Phone: (773) 698-8182\\r\\n                            ', <br/>, '\\n', <ul class=\"list-unstyled list-inline\" style=\"margin-top: 5px;\">\n",
      "<li style=\"padding: 3px; background: #efefef; border-radius: 4px;\"><img alt=\"Medicinal\" data-placement=\"top\" data-toggle=\"tooltip\" src=\"https://static.potguide.com/images/icon-med.png\" style=\"height: 24px; width: 24px;\" title=\"Medical Sales\"/></li>\n",
      "</ul>, '\\n', <a class=\"btn-u btn-u-xs text-white rounded\" href=\"https://www.medmardispensary.com/?utm_source=PotGuide&amp;sid=159242\" style=\"margin-right: 10px;\" target=\"_blank\">Website</a>, '\\n', <a class=\"btn-u btn-u-xs text-white rounded\" href=\"/illinois/marijuana-dispensaries/chicago/medmar-lakeview/\" target=\"_blank\">Store Profile</a>, '\\n']\n",
      "['\\n', <h4><a href=\"/illinois/marijuana-dispensaries/chicago/midway-dispensary/\" target=\"_blank\">Midway Dispensary</a></h4>, '\\r\\n5648 S Archer Ave', <br/>, '\\r\\n                    Chicago, IL 60638', <br/>, '\\r\\n                        \\r\\n                            Phone: (872) 267-7038\\r\\n                            ', <br/>, '\\n', <ul class=\"list-unstyled list-inline\" style=\"margin-top: 5px;\">\n",
      "<li style=\"padding: 3px; background: #efefef; border-radius: 4px;\"><img alt=\"Medicinal\" data-placement=\"top\" data-toggle=\"tooltip\" src=\"https://static.potguide.com/images/icon-med.png\" style=\"height: 24px; width: 24px;\" title=\"Medical Sales\"/></li>\n",
      "</ul>, '\\n', <a class=\"btn-u btn-u-xs text-white rounded\" href=\"http://www.midwaydispensary.com/?utm_source=PotGuide&amp;sid=159244\" style=\"margin-right: 10px;\" target=\"_blank\">Website</a>, '\\n', <a class=\"btn-u btn-u-xs text-white rounded\" href=\"/illinois/marijuana-dispensaries/chicago/midway-dispensary/\" target=\"_blank\">Store Profile</a>, '\\n']\n",
      "['\\n', <h4><a href=\"/illinois/marijuana-dispensaries/chicago/mission-illinois/\" target=\"_blank\">Mission - Chicago South Shore</a></h4>, '\\r\\n8554 S Commercial Ave', <br/>, '\\r\\n                    Chicago, IL 60617', <br/>, '\\r\\n                        \\r\\n                            Phone: (833) 768-4357\\r\\n                            ', <br/>, '\\n', <ul class=\"list-unstyled list-inline\" style=\"margin-top: 5px;\">\n",
      "<li style=\"padding: 3px; background: #efefef; border-radius: 4px;\"><img alt=\"Medicinal\" data-placement=\"top\" data-toggle=\"tooltip\" src=\"https://static.potguide.com/images/icon-med.png\" style=\"height: 24px; width: 24px;\" title=\"Medical Sales\"/></li>\n",
      "</ul>, '\\n', <a class=\"btn-u btn-u-xs text-white rounded\" href=\"https://missiondispensaries.com/chicago-il/?utm_source=PotGuide&amp;sid=179810\" style=\"margin-right: 10px;\" target=\"_blank\">Website</a>, '\\n', <a class=\"btn-u btn-u-xs text-white rounded\" href=\"/illinois/marijuana-dispensaries/chicago/mission-illinois/\" target=\"_blank\">Store Profile</a>, '\\n']\n",
      "['\\n', <h4><a href=\"/illinois/marijuana-dispensaries/chicago/moca-modern-cannabis/\" target=\"_blank\">MOCA - Modern Cannabis Dispensary</a></h4>, '\\r\\n2847 W Fullerton Ave', <br/>, '\\r\\n                    Chicago, IL 60647', <br/>, '\\r\\n                        \\r\\n                            Phone: (773) 722-6622\\r\\n                            ', <br/>, '\\n', <ul class=\"list-unstyled list-inline\" style=\"margin-top: 5px;\">\n",
      "<li style=\"padding: 3px; background: #efefef; border-radius: 4px;\"><img alt=\"Medicinal\" data-placement=\"top\" data-toggle=\"tooltip\" src=\"https://static.potguide.com/images/icon-med.png\" style=\"height: 24px; width: 24px;\" title=\"Medical Sales\"/></li>\n",
      "</ul>, '\\n', <a class=\"btn-u btn-u-xs text-white rounded\" href=\"https://moderncann.com/?utm_source=PotGuide&amp;sid=159247\" style=\"margin-right: 10px;\" target=\"_blank\">Website</a>, '\\n', <a class=\"btn-u btn-u-xs text-white rounded\" href=\"/illinois/marijuana-dispensaries/chicago/moca-modern-cannabis/\" target=\"_blank\">Store Profile</a>, '\\n']\n",
      "['\\n', <h4><a href=\"/illinois/marijuana-dispensaries/chicago/numed-chicago/\" target=\"_blank\">NuMed - Chicago</a></h4>, '\\r\\n1308 W North Ave', <br/>, '\\r\\n                    Chicago, IL 60642', <br/>, '\\r\\n                        \\r\\n                            Phone: (773) 687-8480\\r\\n                            ', <br/>, '\\n', <ul class=\"list-unstyled list-inline\" style=\"margin-top: 5px;\">\n",
      "<li style=\"padding: 3px; background: #efefef; border-radius: 4px;\"><img alt=\"Medicinal\" data-placement=\"top\" data-toggle=\"tooltip\" src=\"https://static.potguide.com/images/icon-med.png\" style=\"height: 24px; width: 24px;\" title=\"Medical Sales\"/></li>\n",
      "<li style=\"padding: 3px; background: #efefef; border-radius: 4px;\"><img alt=\"ATM On-Site\" data-placement=\"top\" data-toggle=\"tooltip\" src=\"https://static.potguide.com/images/icon-atm.png\" style=\"height: 24px; width: 24px;\" title=\"ATM On-Site\"/></li>\n",
      "</ul>, '\\n', <a class=\"btn-u btn-u-xs text-white rounded\" href=\"http://www.numed.com/chicago?utm_source=PotGuide&amp;sid=584880\" style=\"margin-right: 10px;\" target=\"_blank\">Website</a>, '\\n', <a class=\"btn-u btn-u-xs text-white rounded\" href=\"/illinois/marijuana-dispensaries/chicago/numed-chicago/\" target=\"_blank\">Store Profile</a>, '\\n']\n",
      "['\\n', <h4><a href=\"/illinois/marijuana-dispensaries/chicago/the-herbal-care-center/\" target=\"_blank\">The Herbal Care Center</a></h4>, '\\r\\n1301 S Western Ave', <br/>, '\\r\\n                    Chicago, IL 60608', <br/>, '\\r\\n                        \\r\\n                            Phone: (773) 724-4200\\r\\n                            ', <br/>, '\\n', <ul class=\"list-unstyled list-inline\" style=\"margin-top: 5px;\">\n",
      "<li style=\"padding: 3px; background: #efefef; border-radius: 4px;\"><img alt=\"Medicinal\" data-placement=\"top\" data-toggle=\"tooltip\" src=\"https://static.potguide.com/images/icon-med.png\" style=\"height: 24px; width: 24px;\" title=\"Medical Sales\"/></li>\n",
      "<li style=\"padding: 3px; background: #efefef; border-radius: 4px;\"><img alt=\"ATM On-Site\" data-placement=\"top\" data-toggle=\"tooltip\" src=\"https://static.potguide.com/images/icon-atm.png\" style=\"height: 24px; width: 24px;\" title=\"ATM On-Site\"/></li>\n",
      "<li style=\"padding: 3px; background: #efefef; border-radius: 4px;\"><img alt=\"Handicapped Accessible\" data-placement=\"top\" data-toggle=\"tooltip\" src=\"https://static.potguide.com/images/icon-handicapped.png\" style=\"height: 24px; width: 24px;\" title=\"Handicapped Accessible\"/></li>\n",
      "</ul>, '\\n', <a class=\"btn-u btn-u-xs text-white rounded\" href=\"http://theherbalcarecenter.com/?utm_source=PotGuide&amp;sid=159266\" style=\"margin-right: 10px;\" target=\"_blank\">Website</a>, '\\n', <a class=\"btn-u btn-u-xs text-white rounded\" href=\"/illinois/marijuana-dispensaries/chicago/the-herbal-care-center/\" target=\"_blank\">Store Profile</a>, '\\n']\n",
      "['\\n', <h4><a href=\"/illinois/marijuana-dispensaries/chicago/zen-leaf/\" target=\"_blank\">Zen Leaf - Chicago</a></h4>, '\\r\\n6428 N Milwaukee Ave', <br/>, '\\r\\n                    Chicago, IL 60631', <br/>, '\\r\\n                        \\r\\n                            Phone: (872) 304-3113\\r\\n                            ', <br/>, '\\n', <ul class=\"list-unstyled list-inline\" style=\"margin-top: 5px;\">\n",
      "<li style=\"padding: 3px; background: #efefef; border-radius: 4px;\"><img alt=\"Medicinal\" data-placement=\"top\" data-toggle=\"tooltip\" src=\"https://static.potguide.com/images/icon-med.png\" style=\"height: 24px; width: 24px;\" title=\"Medical Sales\"/></li>\n",
      "</ul>, '\\n', <a class=\"btn-u btn-u-xs text-white rounded\" href=\"http://www.zenleafil.com/?utm_source=PotGuide&amp;sid=159270\" style=\"margin-right: 10px;\" target=\"_blank\">Website</a>, '\\n', <a class=\"btn-u btn-u-xs text-white rounded\" href=\"/illinois/marijuana-dispensaries/chicago/zen-leaf/\" target=\"_blank\">Store Profile</a>, '\\n']\n"
     ]
    },
    {
     "data": {
      "text/plain": [
       "(200, [])"
      ]
     },
     "execution_count": 82,
     "metadata": {},
     "output_type": "execute_result"
    }
   ],
   "source": [
    "retrieve_html(\"https://potguide.com/illinois/marijuana-dispensaries/chicago/\", parse_Chicago_dispensaries_page)"
   ]
  },
  {
   "cell_type": "code",
   "execution_count": null,
   "metadata": {},
   "outputs": [],
   "source": []
  }
 ],
 "metadata": {
  "kernelspec": {
   "display_name": "Python 3",
   "language": "python",
   "name": "python3"
  },
  "language_info": {
   "codemirror_mode": {
    "name": "ipython",
    "version": 3
   },
   "file_extension": ".py",
   "mimetype": "text/x-python",
   "name": "python",
   "nbconvert_exporter": "python",
   "pygments_lexer": "ipython3",
   "version": "3.7.1"
  }
 },
 "nbformat": 4,
 "nbformat_minor": 2
}
